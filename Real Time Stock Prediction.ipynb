{
 "cells": [
  {
   "cell_type": "code",
   "execution_count": null,
   "metadata": {},
   "outputs": [],
   "source": [
    "pip install iexfinance"
   ]
  },
  {
   "cell_type": "code",
   "execution_count": null,
   "metadata": {},
   "outputs": [],
   "source": [
    "pip install selenium"
   ]
  },
  {
   "cell_type": "code",
   "execution_count": 23,
   "metadata": {},
   "outputs": [],
   "source": [
    "import numpy as np\n",
    "from datetime import datetime\n",
    "import smtplib\n",
    "import time\n",
    "from selenium import webdriver\n",
    "\n",
    "from sklearn.linear_model import LinearRegression\n",
    "from sklearn.model_selection import cross_validate\n",
    "from sklearn import preprocessing,svm\n",
    "\n",
    "from iexfinance.stocks import Stock\n",
    "from iexfinance.stocks import get_historical_data\n"
   ]
  },
  {
   "cell_type": "code",
   "execution_count": 24,
   "metadata": {},
   "outputs": [],
   "source": [
    "def getStocks(n):\n",
    "    driver=webdriver.Chrome('E:\\chromedriver.exe')\n",
    "    url='https://finance.yahoo.com/screener/predefined/day_gainers'\n",
    "    driver.get(url)\n",
    "    stock_list=[]\n",
    "    n+=1\n",
    "    for i in range(1,n):\n",
    "        time.sleep(5)\n",
    "        ticker=driver.find_element_by_xpath('//*[@id=\"scr-res-table\"]/div[1]/table/tbody/tr['+str(i)+']/td[1]/a')\n",
    "        stock_list.append(ticker.text)\n",
    "    print(stock_list)\n",
    "    driver.quit()\n",
    "    for i in stock_list:\n",
    "        try:\n",
    "            predictData(i,5)\n",
    "        except:\n",
    "            print(\"Stock: \"+i+\"was not predicted\")"
   ]
  },
  {
   "cell_type": "code",
   "execution_count": 25,
   "metadata": {},
   "outputs": [],
   "source": [
    "def sendmessage(output):\n",
    "    username='kakanisreeharsha2000@gmail.com'\n",
    "    password='kakaniipog@2000'\n",
    "    vtext='8309380608@txt.att.net'\n",
    "    message=output\n",
    "    msg='From:%s To:%s %s'%(username,vtext,message)\n",
    "    server=smtplib.SMTP('smtp.gmail.com',587)\n",
    "    server.starttls()\n",
    "    server.login(username,password)\n",
    "    server.sendmail(username,vtext,msg)\n",
    "    server.quit()\n",
    "    print('Sent')"
   ]
  },
  {
   "cell_type": "code",
   "execution_count": 29,
   "metadata": {},
   "outputs": [],
   "source": [
    "def predictData(stock,days):\n",
    "    print(stock)\n",
    "    start=datetime(2018,1,1)\n",
    "    end=datetime.now()\n",
    "    try:\n",
    "        df=get_historical_data(stock,start=start,end=end,output_format='pandas')\n",
    "    except Exception:\n",
    "        print(Exception)\n",
    "    print(df)\n",
    "    if os.path.exists('./Exports'):\n",
    "        csv_name = ('Exports/' + stock + '_Export.csv')\n",
    "    else:\n",
    "        os.mkdir(\"Exports\")\n",
    "        csv_name = ('Exports/' + stock + '_Export.csv')\n",
    "    df.to_csv(csv_name)\n",
    "    df['prediction']=df['close'].shift(-1)\n",
    "    df.dropna(inplace=True)\n",
    "    forecast_time=int(days)\n",
    "    \n",
    "    X=np.array(df.drop(['prediction'],1))\n",
    "    print(X)\n",
    "    Y=np.array(df['prediction'])\n",
    "    print(Y)\n",
    "    X=preprocessing.scale(X)\n",
    "    X_prediction=X[-forecast_time:]\n",
    "\n",
    "    X_train, X_test, Y_train, Y_test =cross_validate.train_test_split(X, Y, test_size=0.5)\n",
    "    clf=LinearRegression()\n",
    "    clf.fit(X_train,Y_train)\n",
    "    prediction=(clf.predict(X_prediction))\n",
    "    last_row=df.tail(1)\n",
    "    print(last_row['close'])\n",
    "    if(float(prediction[4]) > float(last_row['close'])):\n",
    "        output = '\\n\\nStock:'+str(stock)+'\\nPrior Close:\\n'+str(last_row['close'])+'\\n\\nPrediction in 1 day: '+str(prediction[0])+'\\nPrediction in 5 days: '+str(prediction[4])\n",
    "        sendmessage(output)"
   ]
  },
  {
   "cell_type": "code",
   "execution_count": 30,
   "metadata": {},
   "outputs": [
    {
     "name": "stdout",
     "output_type": "stream",
     "text": [
      "['NAV', 'ADNT', 'VIR', 'RETA', 'RSMDF', 'DECK', 'AMZN', 'CVCO', 'CL', 'CAGDF']\n",
      "NAV\n",
      "<class 'Exception'>\n",
      "Stock: NAVwas not predicted\n",
      "ADNT\n",
      "<class 'Exception'>\n",
      "Stock: ADNTwas not predicted\n",
      "VIR\n",
      "<class 'Exception'>\n",
      "Stock: VIRwas not predicted\n",
      "RETA\n",
      "<class 'Exception'>\n",
      "Stock: RETAwas not predicted\n",
      "RSMDF\n",
      "<class 'Exception'>\n",
      "Stock: RSMDFwas not predicted\n",
      "DECK\n",
      "<class 'Exception'>\n",
      "Stock: DECKwas not predicted\n",
      "AMZN\n",
      "<class 'Exception'>\n",
      "Stock: AMZNwas not predicted\n",
      "CVCO\n",
      "<class 'Exception'>\n",
      "Stock: CVCOwas not predicted\n",
      "CL\n",
      "<class 'Exception'>\n",
      "Stock: CLwas not predicted\n",
      "CAGDF\n",
      "<class 'Exception'>\n",
      "Stock: CAGDFwas not predicted\n"
     ]
    }
   ],
   "source": [
    "getStocks(10)"
   ]
  },
  {
   "cell_type": "code",
   "execution_count": null,
   "metadata": {},
   "outputs": [],
   "source": []
  },
  {
   "cell_type": "code",
   "execution_count": null,
   "metadata": {},
   "outputs": [],
   "source": []
  },
  {
   "cell_type": "code",
   "execution_count": null,
   "metadata": {},
   "outputs": [],
   "source": []
  }
 ],
 "metadata": {
  "kernelspec": {
   "display_name": "Python 3",
   "language": "python",
   "name": "python3"
  },
  "language_info": {
   "codemirror_mode": {
    "name": "ipython",
    "version": 3
   },
   "file_extension": ".py",
   "mimetype": "text/x-python",
   "name": "python",
   "nbconvert_exporter": "python",
   "pygments_lexer": "ipython3",
   "version": "3.7.3"
  }
 },
 "nbformat": 4,
 "nbformat_minor": 2
}
